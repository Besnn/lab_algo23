{
 "cells": [
  {
   "cell_type": "markdown",
   "metadata": {},
   "source": [
    "# Insertion Sort vs Bucket Sort: A few test cases to show where each one outperforms the other\n",
    "This is a short Jupyter Notebook aimed at showing where these two sorting algorithms can excel with respect to one-another. Insertion Sort has quadratic time complexity, while Bucket Sort is linear while a certain condition is true: the elements in the array it is sorting need to be evenly distributed. They operate on the same data types (integers, floats, decimals etc.), and Bucket Sort can be used in every case Insertion Sort is usable, unlike Radix Sort for example. Bucket Sort has one distinct advantage: it can be parallelized, whereas Insertion Sort cannot.\n",
    "\n",
    "Below are definitions in Python for the sorting algorithms and test cases to give an idea of performance relative to these case conditions."
   ]
  },
  {
   "cell_type": "code",
   "execution_count": 144,
   "metadata": {},
   "outputs": [],
   "source": [
    "import itertools\n",
    "import math\n",
    "\n",
    "class SortingUtilities:\n",
    "\n",
    "    # standard Insertion Sort implementation\n",
    "    @staticmethod\n",
    "    def insertion_sort(array):\n",
    "        current_index = 1\n",
    "        while current_index < len(array):\n",
    "            other_index = current_index\n",
    "            while other_index > 0 and array[other_index - 1] > array[other_index]:\n",
    "                # swap\n",
    "                tmp = array[other_index]\n",
    "                array[other_index] = array[other_index - 1]\n",
    "                array[other_index - 1] = tmp\n",
    "\n",
    "                other_index = other_index - 1\n",
    "            current_index = current_index + 1\n",
    "\n",
    "        return array\n",
    "    \n",
    "    # one possible implementation of Bucket Sort\n",
    "    # can be made more efficient with respect to space usage and complexity in another lower-level language such as C, C++ or Java\n",
    "    @staticmethod\n",
    "    def bucket_sort(array, bucket_count):\n",
    "        buckets = []\n",
    "        for k in range(0, bucket_count):\n",
    "            buckets.append([])\n",
    "\n",
    "        array_length = len(array)\n",
    "        for i in range(0, array_length):\n",
    "            position = math.floor(bucket_count * array[i] / array_length)\n",
    "            buckets[position].append(array[i])\n",
    "        \n",
    "        new_array = []\n",
    "        for j in range(0, bucket_count):\n",
    "            SortingUtilities.insertion_sort(buckets[j])\n",
    "            new_array = new_array + buckets[j]\n",
    "\n",
    "        #for i in range(0, array_length):\n",
    "        #    array[i] = new_array[i]\n",
    "        \n",
    "        return new_array\n"
   ]
  },
  {
   "cell_type": "code",
   "execution_count": null,
   "metadata": {},
   "outputs": [],
   "source": [
    "# quick test to check if changes in code work\n",
    "array1 = [5, 1, 4, 2, 7, 1, 6, 8]\n",
    "array2 = [4, 7, 1, 8, 9, 5, 9, 1, 5, 3, 3]\n",
    "sorted1 = SortingUtilities.insertion_sort(array1)\n",
    "sorted2 = SortingUtilities.bucket_sort(array2, 5)\n",
    "\n",
    "print(array1 == [1, 1, 2, 4, 5, 6, 7, 8])\n",
    "print(array2 == [1, 1, 3, 3, 4, 5, 5, 7, 8, 9, 9])\n",
    "print(sorted1 == [1, 1, 2, 4, 5, 6, 7, 8])\n",
    "print(sorted2 == [1, 1, 3, 3, 4, 5, 5, 7, 8, 9, 9])"
   ]
  },
  {
   "cell_type": "markdown",
   "metadata": {},
   "source": [
    "## Quick Estimation of Time Complexities for each Sorting Algorithm\n",
    "### Insertion Sort\n",
    "The outer `while` loop always does `n - 1` runs.\n",
    "```python\n",
    "    while current_index < len(array):\n",
    "        ...\n",
    "        current_index = current_index + 1\n",
    "```\n",
    "\n",
    "The inner `while` loop does on average less than and at most `other_index`, which is by definition between zero and `current_index < n`.\n",
    "```python\n",
    "    while other_index > 0 and array[other_index - 1] > array[other_index]:\n",
    "        ...\n",
    "        other_index = other_index - 1\n",
    "```\n",
    "With these in mind we can estimate the Time Complexity of Insertion Sort `Big O of (n-1) * current_index ~ n^2`, so `O(n^2)`.\n",
    "\n",
    "Here is a table of complexity by case from Wikipedia (conforming to my implementation):\n",
    "| Case            | Complexity                         |\n",
    "|-----------------|------------------------------------|\n",
    "| Worst-case Time | `O(n^2)` comparisons and swaps     |\n",
    "| Best-case Time  | `O(n^2)` comparisons, `O(1)` swaps |\n",
    "| Average Time    | `O(n^2)` comparisons and swaps     |\n",
    "| Spatial         | `O(1)` auxiliary                   |\n",
    "\n",
    "Auxiliary Spatial Complexity is constant because we only use memory for swaps (and indices obviously). There is however no guarantee that Total Spatial Complexity is constant, and is probably linear considering it uses garbage collection and every datum is an object.\n",
    "\n",
    "### Bucket Sort\n",
    "There are four `for`` loops. Let's inspect each one and then have a look at the Spatial Complexity.\n",
    "\n",
    "The first `for` loop does `k` runs, `k` being the number of buckets and a parameter passed during execution by the user.\n",
    "```python\n",
    "    for k in range(0, bucket_count):\n",
    "        ...\n",
    "```\n",
    "\n",
    "The second loop evidently does `n` runs.\n",
    "\n",
    "The third does `k` runs, but inside itself it calls Insertion Sort: `k * (n/k)^2 = n^2/k` runs.\n",
    "```python\n",
    "    for j in range(0, bucket_count):\n",
    "        SortingUtilities.insertion_sort(buckets[j])\n",
    "        ...\n",
    "```\n",
    "The last loop only populates the old array with the sorted values and is optional if a faster implementation is desired. It does `n` runs.\n",
    "\n",
    "So we can expect the Time Complexity to be `O(k + n + n^2/k)`. `k` can be any integerb between one and `n`. When `k = 1` it is blatanly an Insertion Sort. When `k ~ n`, we have `O(n)`. So using a large number of buckets can be advantageous in terms of time.\n",
    "\n",
    "Lastly, Spatial Complexity is `O(n + k)`: there is a list of `k` buckets and the buckets themselves contain `n` elements in total."
   ]
  },
  {
   "cell_type": "markdown",
   "metadata": {},
   "source": [
    "TODO:\n",
    "* find optimal k\n",
    "* code diagram\n"
   ]
  },
  {
   "cell_type": "markdown",
   "metadata": {},
   "source": [
    "## Test Cases\n",
    "We want to show when Insertion Sort excels for arrays of increasing sizes and when Bucket Sort is better than Insertion Sort. To generate evenly distributed populated lists, I defined a static method inside `DataGenerationUtilities`.\n",
    "\n",
    "Insertion Sort is simple and has low Spatial Complexity. It is generally used for simple cases where array sizes are not large. A test case for this would be __sorting lists with few elements__.\n",
    "\n",
    "Insertion Sort's quadratic complexity however means that for a sufficiently big array of numbers, Bucket Sort will be faster than Insertion Sort. A test case for this would obviously be __sorting of very large lists__.\n",
    "\n",
    "We also want to test what number of buckets is best relative to array size. For other test we will use `bucket_count = len(array)`, as it has linear complexity.\n",
    "\n",
    "Lastly, we want to test whether Bucket Sort is better than Insertion Sort for large arrays where the numbers are not evenly distributed."
   ]
  },
  {
   "cell_type": "code",
   "execution_count": 66,
   "metadata": {},
   "outputs": [],
   "source": [
    "import random\n",
    "\n",
    "class DataGenerationUtilities:\n",
    "\n",
    "    @staticmethod\n",
    "    def generate_evenly_distributed_integer_list(size, max_value):\n",
    "        return [random.randint(0, max_value) for i in range(size)]\n",
    "\n",
    "    @staticmethod\n",
    "    def generate_repeated_integer_list(size, value):\n",
    "        return [value for i in range(size)]"
   ]
  },
  {
   "cell_type": "markdown",
   "metadata": {},
   "source": [
    "### Test Case 1: Evenly Distributed Array of 100 Elements Sorted\n",
    "To time runs we will use [this](https://ipython.readthedocs.io/en/stable/interactive/magics.html#magic-timeit) magic cell function called `timeit`."
   ]
  },
  {
   "cell_type": "code",
   "execution_count": 145,
   "metadata": {},
   "outputs": [],
   "source": [
    "tc1_array = DataGenerationUtilities.generate_evenly_distributed_integer_list(100, 100)"
   ]
  },
  {
   "cell_type": "code",
   "execution_count": 221,
   "metadata": {},
   "outputs": [
    {
     "name": "stdout",
     "output_type": "stream",
     "text": [
      "7.4 µs ± 196 ns per loop (mean ± std. dev. of 7 runs, 10 loops each)\n"
     ]
    }
   ],
   "source": [
    "%%timeit -n 10\n",
    "SortingUtilities.insertion_sort(tc1_array)"
   ]
  },
  {
   "cell_type": "code",
   "execution_count": 226,
   "metadata": {},
   "outputs": [
    {
     "name": "stdout",
     "output_type": "stream",
     "text": [
      "35.8 µs ± 2.16 µs per loop (mean ± std. dev. of 7 runs, 10 loops each)\n"
     ]
    }
   ],
   "source": [
    "%%timeit -n 10\n",
    "SortingUtilities.bucket_sort(tc1_array, len(tc1_array))"
   ]
  },
  {
   "cell_type": "markdown",
   "metadata": {},
   "source": [
    "I got `7.4 µs ± 196 ns per loop (mean ± std. dev. of 7 runs, 10 loops each)` for Insertion Sort and `17.7 µs ± 1.87 µs per loop (mean ± std. dev. of 7 runs, 10 loops each)` for Bucket Sort.\n",
    "\n",
    "Clearly Insertion Sort is faster in this case."
   ]
  },
  {
   "cell_type": "markdown",
   "metadata": {},
   "source": [
    "### Test Case 2: Evenly Distributed Array of 10000 Elements Sorted"
   ]
  },
  {
   "cell_type": "code",
   "execution_count": 223,
   "metadata": {},
   "outputs": [],
   "source": [
    "tc2_array = DataGenerationUtilities.generate_evenly_distributed_integer_list(10000, 9999) # max_value increased so as not to have (many) duplicates"
   ]
  },
  {
   "cell_type": "code",
   "execution_count": 224,
   "metadata": {},
   "outputs": [
    {
     "name": "stdout",
     "output_type": "stream",
     "text": [
      "The slowest run took 310.13 times longer than the fastest. This could mean that an intermediate result is being cached.\n",
      "35.1 ms ± 84.1 ms per loop (mean ± std. dev. of 7 runs, 10 loops each)\n"
     ]
    }
   ],
   "source": [
    "%%timeit -n 10\n",
    "SortingUtilities.insertion_sort(tc2_array)"
   ]
  },
  {
   "cell_type": "code",
   "execution_count": 227,
   "metadata": {},
   "outputs": [
    {
     "name": "stdout",
     "output_type": "stream",
     "text": [
      "93 ms ± 1.82 ms per loop (mean ± std. dev. of 7 runs, 10 loops each)\n"
     ]
    }
   ],
   "source": [
    "%%timeit -n 10\n",
    "SortingUtilities.bucket_sort(tc2_array, len(tc2_array))"
   ]
  },
  {
   "cell_type": "markdown",
   "metadata": {},
   "source": [
    "I got `35.1 ms ± 84.1 ms per loop (mean ± std. dev. of 7 runs, 10 loops each)` for Insertion Sort and `2.59 ms ± 136 µs per loop (mean ± std. dev. of 7 runs, 10 loops each)` for Bucket Sort. Somehow, Insertin Sort is even faster with more elements."
   ]
  },
  {
   "cell_type": "markdown",
   "metadata": {},
   "source": [
    "### Test Case 3: Evenly Distributed Array of 10000 Elements Sorted"
   ]
  },
  {
   "cell_type": "code",
   "execution_count": 205,
   "metadata": {},
   "outputs": [],
   "source": [
    "tc3_array = DataGenerationUtilities.generate_evenly_distributed_integer_list(60000, 9999)"
   ]
  },
  {
   "cell_type": "code",
   "execution_count": 206,
   "metadata": {},
   "outputs": [
    {
     "name": "stdout",
     "output_type": "stream",
     "text": [
      "The slowest run took 18849.83 times longer than the fastest. This could mean that an intermediate result is being cached.\n",
      "12.6 s ± 30.8 s per loop (mean ± std. dev. of 7 runs, 1 loop each)\n"
     ]
    }
   ],
   "source": [
    "%%timeit -n 1\n",
    "SortingUtilities.insertion_sort(tc3_array)"
   ]
  },
  {
   "cell_type": "code",
   "execution_count": 207,
   "metadata": {},
   "outputs": [
    {
     "name": "stdout",
     "output_type": "stream",
     "text": [
      "41.3 ms ± 798 µs per loop (mean ± std. dev. of 7 runs, 10 loops each)\n"
     ]
    }
   ],
   "source": [
    "%%timeit\n",
    "SortingUtilities.bucket_sort(tc3_array, int(math.sqrt(len(tc3_array))))"
   ]
  },
  {
   "cell_type": "markdown",
   "metadata": {},
   "source": []
  }
 ],
 "metadata": {
  "kernelspec": {
   "display_name": "Python 3",
   "language": "python",
   "name": "python3"
  },
  "language_info": {
   "codemirror_mode": {
    "name": "ipython",
    "version": 3
   },
   "file_extension": ".py",
   "mimetype": "text/x-python",
   "name": "python",
   "nbconvert_exporter": "python",
   "pygments_lexer": "ipython3",
   "version": "3.11.4"
  },
  "orig_nbformat": 4
 },
 "nbformat": 4,
 "nbformat_minor": 2
}
