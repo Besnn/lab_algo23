{
 "cells": [
  {
   "cell_type": "markdown",
   "metadata": {},
   "source": [
    "# Insertion Sort vs Bucket Sort: A few test cases to show where each one outperforms the other\n",
    "This is a short Jupyter Notebook aimed at showing where these two sorting algorithms can excel with respect to one-another. Insertion Sort has quadratic time complexity, while Bucket Sort is linear while a certain condition is true: the elements in the array it is sorting need to be evenly distributed. They operate on the same data types (integers, floats, decimals etc.), and Bucket Sort can be used in every case Insertion Sort is usable, unlike Radix Sort for example. Bucket Sort has one distinct advantage: it can be parallelized, whereas Insertion Sort cannot.\n",
    "\n",
    "Below are definitions in Python for the sorting algorithms and test cases to give an idea of performance relative to these case conditions."
   ]
  },
  {
   "cell_type": "code",
   "execution_count": 147,
   "metadata": {},
   "outputs": [],
   "source": [
    "import itertools\n",
    "import math\n",
    "import copy\n",
    "\n",
    "class SortingUtilities:\n",
    "\n",
    "    # standard Insertion Sort implementation\n",
    "    # deep copy is used to prevent caching of original array which would result in faster but false performance for Insertion Sort\n",
    "    @staticmethod\n",
    "    def insertion_sort(array):\n",
    "        current_index = 1\n",
    "        new_array = copy.deepcopy(array)\n",
    "        while current_index < len(array):\n",
    "            other_index = current_index\n",
    "            while other_index > 0 and new_array[other_index - 1] > new_array[other_index]:\n",
    "                # swap\n",
    "                tmp = new_array[other_index]\n",
    "                new_array[other_index] = new_array[other_index - 1]\n",
    "                new_array[other_index - 1] = tmp\n",
    "\n",
    "                other_index = other_index - 1\n",
    "            current_index = current_index + 1\n",
    "        \n",
    "        return new_array\n",
    "    \n",
    "    # one possible implementation of Bucket Sort\n",
    "    # can be made more efficient with respect to space usage and complexity in another lower-level language such as C, C++ or Java\n",
    "    # an implicit precondition of this implementation is that the number of elements shouldn't be smaller or equal to the greatest number \n",
    "    @staticmethod\n",
    "    def bucket_sort(array, bucket_count):\n",
    "        buckets = []\n",
    "        for k in range(0, bucket_count):\n",
    "            buckets.append([])\n",
    "\n",
    "        array_length = len(array)\n",
    "        for i in range(0, array_length):\n",
    "            position = math.floor(bucket_count * array[i] / array_length)\n",
    "            buckets[position].append(array[i])\n",
    "        \n",
    "        new_array = []\n",
    "        for j in range(0, bucket_count):\n",
    "            sorted_bucket = SortingUtilities.insertion_sort(buckets[j])\n",
    "            new_array = new_array + sorted_bucket\n",
    "        \n",
    "        return new_array\n"
   ]
  },
  {
   "cell_type": "code",
   "execution_count": 148,
   "metadata": {},
   "outputs": [],
   "source": [
    "# quick test to check if changes in code work\n",
    "array1 = [5, 1, 4, 2, 7, 1, 6, 8]\n",
    "array2 = [4, 7, 1, 8, 9, 5, 9, 1, 5, 3, 3]\n",
    "sorted1 = SortingUtilities.insertion_sort(array1)\n",
    "sorted2 = SortingUtilities.bucket_sort(array2, 5)\n",
    "\n",
    "assert(array1 != sorted1)\n",
    "assert(array2 != sorted2)\n",
    "assert(sorted1 == [1, 1, 2, 4, 5, 6, 7, 8])\n",
    "assert(sorted2 == [1, 1, 3, 3, 4, 5, 5, 7, 8, 9, 9])"
   ]
  },
  {
   "cell_type": "markdown",
   "metadata": {},
   "source": [
    "## Quick Estimation of Time Complexities for each Sorting Algorithm\n",
    "### Insertion Sort\n",
    "The outer `while` loop always does `n - 1` runs.\n",
    "```python\n",
    "    while current_index < len(array):\n",
    "        ...\n",
    "        current_index = current_index + 1\n",
    "```\n",
    "\n",
    "The inner `while` loop does on average less than and at most `other_index`, which is by definition between zero and `current_index < n`.\n",
    "```python\n",
    "    while other_index > 0 and array[other_index - 1] > array[other_index]:\n",
    "        ...\n",
    "        other_index = other_index - 1\n",
    "```\n",
    "With these in mind we can estimate the Time Complexity of Insertion Sort `Big O of (n-1) * current_index ~ n^2`, so `O(n^2)`.\n",
    "\n",
    "Here is a table of complexity by case from Wikipedia (conforming to my implementation):\n",
    "| Case            | Complexity                         |\n",
    "|-----------------|------------------------------------|\n",
    "| Worst-case Time | `O(n^2)` comparisons and swaps     |\n",
    "| Best-case Time  | `O(n^2)` comparisons, `O(1)` swaps |\n",
    "| Average Time    | `O(n^2)` comparisons and swaps     |\n",
    "| Spatial         | `O(n)` (another copy list)         |\n",
    "\n",
    "### Bucket Sort\n",
    "There are four `for`` loops. Let's inspect each one and then have a look at the Spatial Complexity.\n",
    "\n",
    "The first `for` loop does `k` runs, `k` being the number of buckets and a parameter passed during execution by the user.\n",
    "```python\n",
    "    for k in range(0, bucket_count):\n",
    "        ...\n",
    "```\n",
    "\n",
    "The second loop evidently does `n` runs.\n",
    "\n",
    "The third does `k` runs, but inside itself it calls Insertion Sort: `k * (n/k)^2 = n^2/k` runs.\n",
    "```python\n",
    "    for j in range(0, bucket_count):\n",
    "        SortingUtilities.insertion_sort(buckets[j])\n",
    "        ...\n",
    "```\n",
    "The last loop only populates the old array with the sorted values and is optional if a faster implementation is desired. It does `n` runs.\n",
    "\n",
    "So we can expect the Time Complexity to be `O(k + n + n^2/k)`. `k` can be any integerb between one and `n`. When `k = 1` it is blatanly an Insertion Sort. When `k ~ n`, we have `O(n)`. So using a large number of buckets can be advantageous in terms of time.\n",
    "\n",
    "Lastly, Spatial Complexity is `O(n + k)`: there is a list of `k` buckets and the buckets themselves contain `n` elements in total."
   ]
  },
  {
   "cell_type": "markdown",
   "metadata": {},
   "source": [
    "## Test Cases\n",
    "We want to show when Insertion Sort excels for arrays of increasing sizes and when Bucket Sort is better than Insertion Sort. To generate evenly distributed populated lists, I defined a static method inside `DataGenerationUtilities`.\n",
    "\n",
    "Insertion Sort is simple and has low spatial complexity. It is generally used for simple cases where array sizes are not large. A test case for this would be __sorting lists with few elements__.\n",
    "\n",
    "Insertion Sort's quadratic complexity however means that for a sufficiently big array of numbers, Bucket Sort will be faster than Insertion Sort. A test case for this would obviously be __sorting of very large lists__.\n",
    "\n",
    "We also want to test whether Bucket Sort is better than Insertion Sort for large arrays where the numbers are not evenly distributed. To generate uneven distributions of elements for the input, I concatenated two lists: one evenly distributed with the full range and another also evenly distributed but with a much more limited range. This effectively gives a list with the full range but with uneven distribution in the limited range of the second list.\n",
    "\n",
    "Lastly, we want to test what number of buckets is best relative to array size. For this we will test different numbers of buckets.\n",
    "\n",
    "## Note on Results\n",
    "I ran the cells locally to get some results and noted these under each test case. The time it takes to execute the algorithm is calculated with [this](https://ipython.readthedocs.io/en/stable/interactive/magics.html#magic-timeit), called `timeit`.\n",
    "\n",
    "I specified that it time the algorithms by taking 10 samples (`-r 10`, so 10 repeats) and for each sample or repeated timing loop, it should do 10 loops (`-n 10`). The reason for this choice is because `timeit` generates statistical data for the time samples, but there is a bit of overhead for the initiation of each sampling take. So in order to \"cancel out\" the overhead, we do a few internal loops inside each sampling take. Obviously, higher values for both `r` and `n` give statistically more sound results. "
   ]
  },
  {
   "cell_type": "code",
   "execution_count": 149,
   "metadata": {},
   "outputs": [],
   "source": [
    "import random\n",
    "\n",
    "class DataGenerationUtilities:\n",
    "\n",
    "    @staticmethod\n",
    "    def generate_evenly_distributed_integer_list(size, max_value):\n",
    "        return [random.randint(0, max_value) for i in range(size)]\n",
    "\n",
    "    @staticmethod\n",
    "    def generate_repeated_integer_list(size, value):\n",
    "        return [value for i in range(size)]"
   ]
  },
  {
   "cell_type": "markdown",
   "metadata": {},
   "source": [
    "### Test Case 1: Evenly Distributed Array of 10 Elements Sorted"
   ]
  },
  {
   "cell_type": "code",
   "execution_count": 328,
   "metadata": {},
   "outputs": [],
   "source": [
    "tc1_array1 = DataGenerationUtilities.generate_evenly_distributed_integer_list(10, 9)\n",
    "tc1_array2 = DataGenerationUtilities.generate_evenly_distributed_integer_list(10, 9)\n",
    "tc1_array3 = DataGenerationUtilities.generate_evenly_distributed_integer_list(10, 9)"
   ]
  },
  {
   "cell_type": "code",
   "execution_count": 297,
   "metadata": {},
   "outputs": [
    {
     "name": "stdout",
     "output_type": "stream",
     "text": [
      "5.6 µs ± 459 ns per loop (mean ± std. dev. of 10 runs, 10 loops each)\n"
     ]
    }
   ],
   "source": [
    "%%timeit -r 10 -n 10\n",
    "SortingUtilities.insertion_sort(tc1_array1)"
   ]
  },
  {
   "cell_type": "code",
   "execution_count": 329,
   "metadata": {},
   "outputs": [
    {
     "name": "stdout",
     "output_type": "stream",
     "text": [
      "10.5 µs ± 1.71 µs per loop (mean ± std. dev. of 10 runs, 10 loops each)\n"
     ]
    }
   ],
   "source": [
    "%%timeit -r 10 -n 10\n",
    "SortingUtilities.bucket_sort(tc1_array2, 5)"
   ]
  },
  {
   "cell_type": "code",
   "execution_count": 324,
   "metadata": {},
   "outputs": [
    {
     "name": "stdout",
     "output_type": "stream",
     "text": [
      "6.98 µs ± 820 ns per loop (mean ± std. dev. of 10 runs, 10 loops each)\n"
     ]
    }
   ],
   "source": [
    "%%timeit -r 10 -n 10\n",
    "SortingUtilities.bucket_sort(tc1_array3, 3)"
   ]
  },
  {
   "cell_type": "markdown",
   "metadata": {},
   "source": [
    "My results locally:\n",
    "* Insertion Sort: `6.26 µs ± 658 ns per loop (mean ± std. dev. of 10 runs, 10 loops each)`\n",
    "* Bucket Sort with 5 buckets (~20 elements per bucket): `9.05 µs ± 869 ns per loop (mean ± std. dev. of 10 runs, 10 loops each)`\n",
    "* Bucket Sort with 3 buckets: `6.98 µs ± 820 ns per loop (mean ± std. dev. of 10 runs, 10 loops each)`"
   ]
  },
  {
   "cell_type": "markdown",
   "metadata": {},
   "source": [
    "### Test Case 2: Evenly Distributed Array of 100 Elements Sorted"
   ]
  },
  {
   "cell_type": "code",
   "execution_count": 300,
   "metadata": {},
   "outputs": [],
   "source": [
    "tc2_array1 = DataGenerationUtilities.generate_evenly_distributed_integer_list(100, 99)\n",
    "tc2_array2 = DataGenerationUtilities.generate_evenly_distributed_integer_list(100, 99)\n",
    "tc2_array3 = DataGenerationUtilities.generate_evenly_distributed_integer_list(100, 99)"
   ]
  },
  {
   "cell_type": "code",
   "execution_count": 301,
   "metadata": {},
   "outputs": [
    {
     "name": "stdout",
     "output_type": "stream",
     "text": [
      "215 µs ± 14.1 µs per loop (mean ± std. dev. of 10 runs, 10 loops each)\n"
     ]
    }
   ],
   "source": [
    "%%timeit -r 10 -n 10\n",
    "SortingUtilities.insertion_sort(tc2_array1)"
   ]
  },
  {
   "cell_type": "code",
   "execution_count": 302,
   "metadata": {},
   "outputs": [
    {
     "name": "stdout",
     "output_type": "stream",
     "text": [
      "82.1 µs ± 1.59 µs per loop (mean ± std. dev. of 10 runs, 10 loops each)\n"
     ]
    }
   ],
   "source": [
    "%%timeit -r 10 -n 10\n",
    "SortingUtilities.bucket_sort(tc2_array2, 5)"
   ]
  },
  {
   "cell_type": "code",
   "execution_count": 303,
   "metadata": {},
   "outputs": [
    {
     "name": "stdout",
     "output_type": "stream",
     "text": [
      "64.8 µs ± 3.27 µs per loop (mean ± std. dev. of 10 runs, 10 loops each)\n"
     ]
    }
   ],
   "source": [
    "%%timeit -r 10 -n 10\n",
    "SortingUtilities.bucket_sort(tc2_array3, int(math.sqrt(len(tc2_array3))))"
   ]
  },
  {
   "cell_type": "markdown",
   "metadata": {},
   "source": [
    "My results:\n",
    "* Insertion Sort: `229 µs ± 12.3 µs per loop (mean ± std. dev. of 10 runs, 10 loops each)`\n",
    "* Bucket Sort with 50 buckets (~20 elements per bucket): `88.4 µs ± 2.19 µs per loop (mean ± std. dev. of 10 runs, 10 loops each)`\n",
    "* Bucket Sort with square root of `n` buckets (~10 elements per bucket): `67.8 µs ± 2.21 µs per loop (mean ± std. dev. of 10 runs, 10 loops each)`"
   ]
  },
  {
   "cell_type": "markdown",
   "metadata": {},
   "source": [
    "### Test Case 3: Evenly Distributed Array of 10000 Elements Sorted"
   ]
  },
  {
   "cell_type": "code",
   "execution_count": 315,
   "metadata": {},
   "outputs": [],
   "source": [
    "tc3_array1 = DataGenerationUtilities.generate_evenly_distributed_integer_list(10000, 9999)\n",
    "tc3_array2 = DataGenerationUtilities.generate_evenly_distributed_integer_list(10000, 9999)\n",
    "tc3_array3 = DataGenerationUtilities.generate_evenly_distributed_integer_list(10000, 9999)"
   ]
  },
  {
   "cell_type": "code",
   "execution_count": 316,
   "metadata": {},
   "outputs": [
    {
     "name": "stdout",
     "output_type": "stream",
     "text": [
      "2.52 s ± 11 ms per loop (mean ± std. dev. of 10 runs, 10 loops each)\n"
     ]
    }
   ],
   "source": [
    "%%timeit -r 10 -n 10\n",
    "SortingUtilities.insertion_sort(tc3_array1)"
   ]
  },
  {
   "cell_type": "code",
   "execution_count": 312,
   "metadata": {},
   "outputs": [
    {
     "name": "stdout",
     "output_type": "stream",
     "text": [
      "31.6 µs ± 2.03 µs per loop (mean ± std. dev. of 10 runs, 10 loops each)\n"
     ]
    }
   ],
   "source": [
    "%%timeit -r 10 -n 10\n",
    "SortingUtilities.bucket_sort(tc3_array2, 10)"
   ]
  },
  {
   "cell_type": "code",
   "execution_count": 311,
   "metadata": {},
   "outputs": [
    {
     "name": "stdout",
     "output_type": "stream",
     "text": [
      "33.7 µs ± 6.37 µs per loop (mean ± std. dev. of 10 runs, 10 loops each)\n"
     ]
    }
   ],
   "source": [
    "%%timeit -r 10 -n 10\n",
    "SortingUtilities.bucket_sort(tc3_array3, int(math.sqrt(len(tc3_array3))))"
   ]
  },
  {
   "cell_type": "markdown",
   "metadata": {},
   "source": [
    "My results:\n",
    "* Insertion Sort: `2.24 s ± 6.46 ms per loop (mean ± std. dev. of 10 runs, 10 loops each)`\n",
    "* Bucket Sort with 5000 buckets (~20 elements per bucket): `12.6 ms ± 194 µs per loop (mean ± std. dev. of 10 runs, 10 loops each)`\n",
    "* Bucket Sort with square root of `n` buckets (~100 elements per bucket): `24.9 ms ± 161 µs per loop (mean ± std. dev. of 10 runs, 10 loops each)`"
   ]
  },
  {
   "cell_type": "markdown",
   "metadata": {},
   "source": [
    "### Test Case 4: Unevenly Distributed Array of 10000 Elements Sorted"
   ]
  },
  {
   "cell_type": "code",
   "execution_count": 317,
   "metadata": {},
   "outputs": [],
   "source": [
    "tc4_array1 = DataGenerationUtilities.generate_evenly_distributed_integer_list(9000, 9) + DataGenerationUtilities.generate_evenly_distributed_integer_list(1000, random.randint(10, 9999))\n",
    "tc4_array2 = DataGenerationUtilities.generate_evenly_distributed_integer_list(9000, 9) + DataGenerationUtilities.generate_evenly_distributed_integer_list(1000, random.randint(10, 9999))\n",
    "tc4_array3 = DataGenerationUtilities.generate_evenly_distributed_integer_list(9000, 9) + DataGenerationUtilities.generate_evenly_distributed_integer_list(1000, random.randint(10, 9999))"
   ]
  },
  {
   "cell_type": "code",
   "execution_count": null,
   "metadata": {},
   "outputs": [],
   "source": [
    "%%timeit -r 10 -n 10\n",
    "SortingUtilities.insertion_sort(tc4_array1)"
   ]
  },
  {
   "cell_type": "code",
   "execution_count": 319,
   "metadata": {},
   "outputs": [
    {
     "name": "stdout",
     "output_type": "stream",
     "text": [
      "1.63 s ± 5.29 ms per loop (mean ± std. dev. of 10 runs, 10 loops each)\n"
     ]
    }
   ],
   "source": [
    "%%timeit -r 10 -n 10\n",
    "SortingUtilities.bucket_sort(tc4_array2, 500)"
   ]
  },
  {
   "cell_type": "code",
   "execution_count": 277,
   "metadata": {},
   "outputs": [
    {
     "name": "stdout",
     "output_type": "stream",
     "text": [
      "1.67 s ± 58.8 ms per loop (mean ± std. dev. of 10 runs, 10 loops each)\n"
     ]
    }
   ],
   "source": [
    "%%timeit -r 10 -n 10\n",
    "SortingUtilities.bucket_sort(tc4_array3, int(math.sqrt(len(tc4_array3))))"
   ]
  },
  {
   "cell_type": "markdown",
   "metadata": {},
   "source": [
    "My results:\n",
    "* Insertion Sort: `1.84 s ± 28.5 ms per loop (mean ± std. dev. of 10 runs, 10 loops each)`\n",
    "* Bucket Sort with 500 buckets (~20 elements per bucket): `1.74 s ± 12 ms per loop (mean ± std. dev. of 10 runs, 10 loops each)`\n",
    "* Bucket Sort with square root of `n` buckets (~100 elements per bucket): `1.67 s ± 58.8 ms per loop (mean ± std. dev. of 10 runs, 10 loops each)`"
   ]
  },
  {
   "cell_type": "markdown",
   "metadata": {},
   "source": [
    "### Test Case 5: The Importance of Parameter Choice on Bucket Sort"
   ]
  },
  {
   "cell_type": "code",
   "execution_count": 320,
   "metadata": {},
   "outputs": [],
   "source": [
    "tc5_array1 = DataGenerationUtilities.generate_evenly_distributed_integer_list(60000, 9999)\n",
    "tc5_array2 = DataGenerationUtilities.generate_evenly_distributed_integer_list(60000, 9999)"
   ]
  },
  {
   "cell_type": "code",
   "execution_count": 322,
   "metadata": {},
   "outputs": [
    {
     "name": "stdout",
     "output_type": "stream",
     "text": [
      "516 ms ± 2.08 ms per loop (mean ± std. dev. of 10 runs, 10 loops each)\n"
     ]
    }
   ],
   "source": [
    "%%timeit -r 10 -n 10\n",
    "SortingUtilities.bucket_sort(tc5_array1, 3000)"
   ]
  },
  {
   "cell_type": "code",
   "execution_count": 323,
   "metadata": {},
   "outputs": [
    {
     "name": "stdout",
     "output_type": "stream",
     "text": [
      "2.02 s ± 15.4 ms per loop (mean ± std. dev. of 10 runs, 10 loops each)\n"
     ]
    }
   ],
   "source": [
    "%%timeit -r 10 -n 10\n",
    "SortingUtilities.bucket_sort(tc5_array2, int(math.sqrt(len(tc5_array2))))"
   ]
  },
  {
   "cell_type": "markdown",
   "metadata": {},
   "source": [
    "My results:\n",
    "* Bucket Sort with 3000 buckets (~20 elements per bucket): `516 ms ± 2.08 ms per loop (mean ± std. dev. of 10 runs, 10 loops each)`\n",
    "* Bucket Sort with square root of `n` buckets (~250 elements per bucket): `2.02 s ± 15.4 ms per loop (mean ± std. dev. of 10 runs, 10 loops each)`"
   ]
  },
  {
   "cell_type": "markdown",
   "metadata": {},
   "source": [
    "## Interpretation & Final Remarks\n",
    "For small lists (10 to 20 elements) Insertion Sort is faster than Bucket Sort. At another order of magnitude of elements higher (100), Insertion Sort is somewhat slower with respect to Bucket Sort. Under other circumstances, this could have been attributed to the memory allocation overhead (our implementation performs a deep copy of the original list so that successive runs for the same list aren't faster); however, our Bucket Sort implementation uses this same deep copy technique becuase it uses the same Insertion Sort algorithm inside. This means that Bucket Sort is faster in these conditions regardless of the extra overhead, because this overhead is common to both implementations.  We also see that Bucket Sort is around two order of magnitude faster for lists of 10 thousand elements.\n",
    "\n",
    "The above results were under assumption of evenly distributed lists (generated via `random.randint()`, random enough for these experiments). When ran against lists of 10 thousand elements of a very uneven distribution (0.9 for [0,9] and 0.1 [10,9999]) Insertion Sort was almost as fast as Bucket Sort. This is a known limition of Bucket Sort, as one of its preconditions is that the input should be uniformly distributed.\n",
    "\n",
    "Lastly, you should have noticed that Bucket Sort was ran with two different parameters for the number of buckets. The first parameter was chosen so that buckets would be of size 20. This is because Insertion Sort is known to perform better for small lists, and also as a side effect gives us a large number of buckets which in reference to our analysis of complexity should result in a linear time complexity. The second parameter was chosen to be approximately the square root of the input size. This would theoretically give a time complexity of `n * sqrt(n)`, which is still better than the quadratic time complexity of Insertion Sort and serves for a nice comparison against the first parameter choice as well. Unsurprisingly, our hypothesis holds true: Bucket Sort is faster when ran with the first parameter for large input sizes."
   ]
  },
  {
   "cell_type": "markdown",
   "metadata": {},
   "source": [
    "## Appendix: Code Documentation\n",
    "`SortingUtilities.insertion_sort(array)`: standard Insertion Sort implementation. `array` should be a Python list.\n",
    "\n",
    "`SortingUtilities.bucket_sort(array, bucket_count)`: Bucket Sort implementation. Creates `bucket_count` buckets. Elements are inserted into said buckets via `position = math.floor(bucket_count * array[i] / array_length)`. A side effect of this is that the number of elements shouldn't be smaller or equal to the greatest number. Indeed, the user should get an `IndexError` if this precondition on the input is not satisfied. `array` should be a Python list, and `bucket_count` an integer.\n",
    "\n",
    "`DataGenerationUtilities.generate_evenly_distributed_integer_list(size, max_value)`: generates a list of integers between 0 and `max_value` inclusive, of length `size`. `max_value` can any positive number, while `size` must be an integer. The distribution of the list is that of `random.randint()`, which is deterministic (pseudo-random) but statistically uniform[^](https://docs.python.org/3/library/random.html).\n"
   ]
  }
 ],
 "metadata": {
  "kernelspec": {
   "display_name": "Python 3",
   "language": "python",
   "name": "python3"
  },
  "language_info": {
   "codemirror_mode": {
    "name": "ipython",
    "version": 3
   },
   "file_extension": ".py",
   "mimetype": "text/x-python",
   "name": "python",
   "nbconvert_exporter": "python",
   "pygments_lexer": "ipython3",
   "version": "3.11.4"
  },
  "orig_nbformat": 4
 },
 "nbformat": 4,
 "nbformat_minor": 2
}
