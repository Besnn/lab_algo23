{
 "cells": [
  {
   "cell_type": "markdown",
   "metadata": {},
   "source": [
    "# Insertion Sort vs Bucket Sort: A few test cases to show where each one outperforms the other\n",
    "This is a short Jupyter Notebook aimed at showing where these two sorting algorithms can excel with respect to one-another. Insertion Sort has quadratic time complexity, while Bucket Sort is linear while a certain condition is true: the elements in the array it is sorting need to be evenly distributed. They operate on the same data types (integers, floats, decimals etc.), and Bucket Sort can be used in every case Insertion Sort is usable, unlike Radix Sort for example.\n",
    "\n",
    "Below are definitions in Python for the sorting algorithms and test cases to give an idea of performance relative to these case conditions."
   ]
  },
  {
   "cell_type": "code",
   "execution_count": 5,
   "metadata": {},
   "outputs": [],
   "source": [
    "import itertools\n",
    "import math\n",
    "\n",
    "class SortingUtilities:\n",
    "\n",
    "    # standard Insertion Sort implementation\n",
    "    @staticmethod\n",
    "    def insertion_sort(array):\n",
    "        current_index = 1\n",
    "        while current_index < len(array):\n",
    "            other_index = current_index\n",
    "            while other_index > 0 and array[other_index - 1] > array[other_index]:\n",
    "                # swap\n",
    "                tmp = array[other_index]\n",
    "                array[other_index] = array[other_index - 1]\n",
    "                array[other_index - 1] = tmp\n",
    "\n",
    "                other_index = other_index - 1\n",
    "            current_index = current_index + 1\n",
    "\n",
    "        return array\n",
    "    \n",
    "    # one possible implementation of Bucket Sort\n",
    "    # can be made more efficient with respect to space usage and complexity in another lower-level language such as C, C++ or Java\n",
    "    @staticmethod\n",
    "    def bucket_sort(array, bucket_count):\n",
    "        buckets = []\n",
    "        for k in range(0, bucket_count):\n",
    "            buckets.append([])\n",
    "\n",
    "        array_length = len(array)\n",
    "        for i in range(0, array_length):\n",
    "            position = math.floor(bucket_count * array[i] / array_length)\n",
    "            buckets[position].append(array[i])\n",
    "        \n",
    "        new_array = []\n",
    "        for j in range(0, bucket_count):\n",
    "            SortingUtilities.insertion_sort(buckets[j])\n",
    "            new_array = new_array + buckets[j]\n",
    "\n",
    "        for i in range(0, array_length):\n",
    "            array[i] = new_array[i]\n",
    "        \n",
    "        return new_array\n"
   ]
  },
  {
   "cell_type": "code",
   "execution_count": 6,
   "metadata": {},
   "outputs": [
    {
     "name": "stdout",
     "output_type": "stream",
     "text": [
      "True\n",
      "True\n",
      "True\n",
      "True\n"
     ]
    }
   ],
   "source": [
    "# quick test to check if changes in code work\n",
    "array1 = [5, 1, 4, 2, 7, 1, 6, 8]\n",
    "array2 = [4, 7, 1, 8, 9, 5, 9, 1, 5, 3, 3]\n",
    "sorted1 = SortingUtilities.insertion_sort(array1)\n",
    "sorted2 = SortingUtilities.bucket_sort(array2, 5)\n",
    "\n",
    "print(array1 == [1, 1, 2, 4, 5, 6, 7, 8])\n",
    "print(array2 == [1, 1, 3, 3, 4, 5, 5, 7, 8, 9, 9])\n",
    "print(sorted1 == [1, 1, 2, 4, 5, 6, 7, 8])\n",
    "print(sorted2 == [1, 1, 3, 3, 4, 5, 5, 7, 8, 9, 9])"
   ]
  },
  {
   "cell_type": "markdown",
   "metadata": {},
   "source": [
    "## Quick Estimation of Time Complexities for each Sorting Algorithm\n",
    "### Insertion Sort\n",
    "The outer `while` loop always does `n - 1` runs.\n",
    "```python\n",
    "    while current_index < len(array):\n",
    "        ...\n",
    "        current_index = current_index + 1\n",
    "```\n",
    "\n",
    "The inner `while` loop does on average less than and at most `other_index`, which is by definition between zero and `current_index < n`.\n",
    "```python\n",
    "    while other_index > 0 and array[other_index - 1] > array[other_index]:\n",
    "        ...\n",
    "        other_index = other_index - 1\n",
    "```\n",
    "With these in mind we can estimate the Time Complexity of Insertion Sort `Big O of (n-1) * current_index ~ n^2`, so `O(n^2)`.\n",
    "\n",
    "Here is a table of complexity by case from Wikipedia (confronted with my implementations):\n",
    "| Case            | Complexity                         |\n",
    "|-----------------|------------------------------------|\n",
    "| Worst-case Time | `O(n^2)` comparisons and swaps     |\n",
    "| Best-case Time  | `O(n^2)` comparisons, `O(1)` swaps |\n",
    "| Average Time    | `O(n^2)` comparisons and swaps     |\n",
    "| Spatial         | `O(1)` auxiliary                   |\n",
    "\n",
    "Auxiliary Spatial Complexity is constant because we only use memory for swaps (and indices obviously). There is however no guarantee that Total Spatial Complexity is constant, and is probably linear considering it uses garbage collection and every datum is an object.\n",
    "\n",
    "### Bucket Sort\n",
    "There are four `for`` loops. Let's inspect each one and then have a look at the Spatial Complexity.\n",
    "\n",
    "The first `for` loop does `k` runs, `k` being the number of buckets and a parameter passed during execution by the user.\n",
    "```python\n",
    "    for k in range(0, bucket_count):\n",
    "        ...\n",
    "```\n",
    "\n",
    "The second loop evidently does `n` runs.\n",
    "\n",
    "The third does `k` runs, but inside itself it calls Insertion Sort: `k * (n/k)^2 = n^2/k` runs.\n",
    "```python\n",
    "    for j in range(0, bucket_count):\n",
    "        SortingUtilities.insertion_sort(buckets[j])\n",
    "        ...\n",
    "```\n",
    "The last loop only populates the old array with the sorted values and is optional if a faster implementation is desired. It does `n` runs.\n",
    "\n",
    "So we can expect the Time Complexity to be `O(k + n + n^2/k)`. `k` can be any integerb between one and `n`. When `k = 1` it is blatanly an Insertion Sort. When `k ~ n`, we have `O(n)`. So using a large number of buckets can be advantageous in terms of time.\n",
    "\n",
    "Lastly, Spatial Complexity is `O(n + k)`: there is a list of `k` buckets and the buckets themselves contain `n` elements in total."
   ]
  },
  {
   "cell_type": "markdown",
   "metadata": {},
   "source": [
    "TODO:\n",
    "* experiment section\n",
    "* find way to time from example report (notebook does it too)\n",
    "* data generation\n",
    "* code diagram\n"
   ]
  },
  {
   "cell_type": "markdown",
   "metadata": {},
   "source": []
  }
 ],
 "metadata": {
  "kernelspec": {
   "display_name": "Python 3",
   "language": "python",
   "name": "python3"
  },
  "language_info": {
   "codemirror_mode": {
    "name": "ipython",
    "version": 3
   },
   "file_extension": ".py",
   "mimetype": "text/x-python",
   "name": "python",
   "nbconvert_exporter": "python",
   "pygments_lexer": "ipython3",
   "version": "3.11.4"
  },
  "orig_nbformat": 4
 },
 "nbformat": 4,
 "nbformat_minor": 2
}
